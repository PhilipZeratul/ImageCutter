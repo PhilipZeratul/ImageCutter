{
 "cells": [
  {
   "cell_type": "code",
   "execution_count": 1,
   "metadata": {
    "collapsed": true
   },
   "outputs": [],
   "source": [
    "import cv2\n",
    "import numpy as np"
   ]
  },
  {
   "cell_type": "code",
   "execution_count": 3,
   "metadata": {
    "collapsed": false
   },
   "outputs": [],
   "source": [
    "def ClickAndCrop(event, x, y, flags, param):     \n",
    "    global isCropping\n",
    "    global startPt, endPt\n",
    "    global image, imageClone    \n",
    "    \n",
    "    if event == cv2.EVENT_LBUTTONDOWN:\n",
    "        imageClone = image.copy()        \n",
    "        startPt = (x, y)\n",
    "        isCropping = True\n",
    "        cv2.imshow(\"sourceImage\", imageClone)\n",
    " \n",
    "    elif event == cv2.EVENT_MOUSEMOVE:\n",
    "        if isCropping:\n",
    "            imageClone = image.copy()\n",
    "            endPt = (x, y)\n",
    "            cv2.rectangle(imageClone, startPt, endPt, (0, 255, 0), 2)\n",
    "            cv2.imshow(\"sourceImage\", imageClone)\n",
    "\n",
    "    elif event == cv2.EVENT_LBUTTONUP:\n",
    "        imageClone = image.copy()\n",
    "        endPt = (x, y)\n",
    "        isCropping = False        \n",
    "        cv2.rectangle(imageClone, startPt, endPt, (0, 255, 0), 2)\n",
    "        cv2.imshow(\"sourceImage\", imageClone)"
   ]
  },
  {
   "cell_type": "code",
   "execution_count": 9,
   "metadata": {
    "collapsed": true
   },
   "outputs": [],
   "source": [
    "def TrackbarCallBack(a):\n",
    "    pass"
   ]
  },
  {
   "cell_type": "code",
   "execution_count": null,
   "metadata": {
    "collapsed": true
   },
   "outputs": [],
   "source": [
    "# TODO trackbar to adjust HSV threshold"
   ]
  },
  {
   "cell_type": "code",
   "execution_count": 10,
   "metadata": {
    "collapsed": true
   },
   "outputs": [],
   "source": [
    "def DealWithCropped(imageCropped):\n",
    "    cv2.namedWindow(\"croppedImage\")    \n",
    "    cv2.createTrackbar(\"H\", \"croppedImage\", 5, 10, TrackbarCallBack)\n",
    "    cv2.createTrackbar(\"S\", \"croppedImage\", 5, 10, TrackbarCallBack)\n",
    "    cv2.createTrackbar(\"V\", \"croppedImage\", 5, 10, TrackbarCallBack)\n",
    "    \n",
    "    cv2.imshow(\"croppedImage\", imageCropped)\n",
    "    "
   ]
  },
  {
   "cell_type": "code",
   "execution_count": 11,
   "metadata": {
    "collapsed": false
   },
   "outputs": [
    {
     "name": "stdout",
     "output_type": "stream",
     "text": [
      "SpaceBar\n",
      "('StartPt =', (359, 332), 'EndPt =', (648, 581))\n",
      "Esc\n"
     ]
    }
   ],
   "source": [
    "SCALE = 0.3\n",
    "\n",
    "image = cv2.imread(\"Pictures/IMG_2933.png\")\n",
    "image = cv2.resize(image, (0,0), fx=SCALE, fy=SCALE, interpolation=cv2.INTER_AREA) \n",
    "imageClone = image.copy()\n",
    "\n",
    "isCropping = False\n",
    "cv2.namedWindow(\"sourceImage\")\n",
    "cv2.imshow(\"sourceImage\", image)\n",
    "cv2.setMouseCallback(\"sourceImage\", ClickAndCrop)\n",
    "\n",
    "while True:    \n",
    "    key = cv2.waitKey(0)\n",
    "    \n",
    "    if key == ord(' '):    \n",
    "        print(\"SpaceBar\")\n",
    "        print(\"StartPt =\", startPt, \"EndPt =\", endPt)\n",
    "        imageCropped = image[startPt[1]:endPt[1], startPt[0]:endPt[0]]\n",
    "        DealWithCropped(imageCropped)\n",
    "    elif key == 27:\n",
    "        print(\"Esc\")\n",
    "        break\n",
    "\n",
    "cv2.destroyAllWindows()\n",
    "cv2.waitKey(1)\n",
    "cv2.destroyAllWindows()"
   ]
  },
  {
   "cell_type": "code",
   "execution_count": 22,
   "metadata": {
    "collapsed": false
   },
   "outputs": [],
   "source": [
    "\n",
    "\n"
   ]
  },
  {
   "cell_type": "code",
   "execution_count": null,
   "metadata": {
    "collapsed": true
   },
   "outputs": [],
   "source": []
  },
  {
   "cell_type": "code",
   "execution_count": 2,
   "metadata": {
    "collapsed": false
   },
   "outputs": [
    {
     "name": "stdout",
     "output_type": "stream",
     "text": [
      "['EVENT_FLAG_ALTKEY', 'EVENT_FLAG_CTRLKEY', 'EVENT_FLAG_LBUTTON', 'EVENT_FLAG_MBUTTON', 'EVENT_FLAG_RBUTTON', 'EVENT_FLAG_SHIFTKEY', 'EVENT_LBUTTONDBLCLK', 'EVENT_LBUTTONDOWN', 'EVENT_LBUTTONUP', 'EVENT_MBUTTONDBLCLK', 'EVENT_MBUTTONDOWN', 'EVENT_MBUTTONUP', 'EVENT_MOUSEHWHEEL', 'EVENT_MOUSEMOVE', 'EVENT_MOUSEWHEEL', 'EVENT_RBUTTONDBLCLK', 'EVENT_RBUTTONDOWN', 'EVENT_RBUTTONUP']\n"
     ]
    }
   ],
   "source": [
    "events = [i for i in dir(cv2) if 'EVENT' in i]\n",
    "print events"
   ]
  },
  {
   "cell_type": "code",
   "execution_count": null,
   "metadata": {
    "collapsed": true
   },
   "outputs": [],
   "source": [
    "res = cv2.waitKey(0)\n",
    "print 'You pressed %d (0x%x), LSB: %d (%s)' % (res, res, res % 256,\n",
    "    repr(chr(res%256)) if res%256 < 128 else '?')\n",
    "if res == ord(' '):\n",
    "    print(\"SpaceBar\")\n",
    "if res == 27:\n",
    "    print(\"Esc\")"
   ]
  }
 ],
 "metadata": {
  "kernelspec": {
   "display_name": "Python 2",
   "language": "python",
   "name": "python2"
  },
  "language_info": {
   "codemirror_mode": {
    "name": "ipython",
    "version": 2
   },
   "file_extension": ".py",
   "mimetype": "text/x-python",
   "name": "python",
   "nbconvert_exporter": "python",
   "pygments_lexer": "ipython2",
   "version": "2.7.10"
  }
 },
 "nbformat": 4,
 "nbformat_minor": 1
}
