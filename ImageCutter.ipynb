{
 "cells": [
  {
   "cell_type": "code",
   "execution_count": 1,
   "metadata": {
    "collapsed": true
   },
   "outputs": [],
   "source": [
    "import cv2\n",
    "import numpy as np"
   ]
  },
  {
   "cell_type": "code",
   "execution_count": 2,
   "metadata": {
    "collapsed": false
   },
   "outputs": [],
   "source": [
    "def ClickAndCrop(event, x, y, flags, param):     \n",
    "    global isCropping\n",
    "    global startPt, endPt\n",
    "    global image, imageClone    \n",
    "    \n",
    "    if event == cv2.EVENT_LBUTTONDOWN:\n",
    "        imageClone = image.copy()        \n",
    "        startPt = (x, y)\n",
    "        isCropping = True\n",
    "        cv2.imshow(\"sourceImage\", imageClone)\n",
    " \n",
    "    elif event == cv2.EVENT_MOUSEMOVE:\n",
    "        if isCropping:\n",
    "            imageClone = image.copy()\n",
    "            endPt = (x, y)\n",
    "            cv2.rectangle(imageClone, startPt, endPt, (0, 255, 0), 2)\n",
    "            cv2.imshow(\"sourceImage\", imageClone)\n",
    "\n",
    "    elif event == cv2.EVENT_LBUTTONUP:\n",
    "        imageClone = image.copy()\n",
    "        endPt = (x, y)\n",
    "        isCropping = False        \n",
    "        cv2.rectangle(imageClone, startPt, endPt, (0, 255, 0), 2)\n",
    "        cv2.imshow(\"sourceImage\", imageClone)"
   ]
  },
  {
   "cell_type": "code",
   "execution_count": 3,
   "metadata": {
    "collapsed": false
   },
   "outputs": [],
   "source": [
    "def CropImage(sourceImage):\n",
    "    global x_0, y_0, x_1, y_1\n",
    "\n",
    "    MARGIN = 10\n",
    "    SIZE = 224\n",
    "    \n",
    "    x_01 = max(0, x_0 - MARGIN)\n",
    "    y_01 = max(0, y_0 - MARGIN)\n",
    "    x_11 = min(sourceImage.shape[1], x_1 + MARGIN + 1)\n",
    "    y_11 = min(sourceImage.shape[0], y_1 + MARGIN + 1)   \n",
    "    \n",
    "    expandedImage = sourceImage[y_01:y_11, x_01:x_11]    \n",
    "    expandeMargin = abs(expandedImage.shape[0] - expandedImage.shape[1])/2   \n",
    "        \n",
    "    if expandedImage.shape[0] > expandedImage.shape[1]: # rows > cols\n",
    "        expandedImage = \\\n",
    "            cv2.copyMakeBorder(expandedImage,0,0,expandeMargin,expandeMargin,cv2.BORDER_REPLICATE)\n",
    "    else: # cols > rows\n",
    "        expandedImage = \\\n",
    "            cv2.copyMakeBorder(expandedImage,expandeMargin,expandeMargin,0,0,cv2.BORDER_REPLICATE)\n",
    "        \n",
    "    expandedImage = cv2.resize(expandedImage, (SIZE,SIZE), interpolation = cv2.INTER_AREA)\n",
    "    \n",
    "    cv2.namedWindow(\"expandedImage\")\n",
    "    cv2.imshow(\"expandedImage\", expandedImage)    \n",
    "        \n",
    "    cv2.imwrite(\"Cropped/IMG_2933.png\", expandedImage)"
   ]
  },
  {
   "cell_type": "code",
   "execution_count": 4,
   "metadata": {
    "collapsed": true
   },
   "outputs": [],
   "source": [
    "def FindBoundingRect(mask):    \n",
    "    nonZero = np.nonzero(mask)\n",
    "    \n",
    "    x_0 = np.amin(nonZero[1])\n",
    "    y_0 = np.amin(nonZero[0])\n",
    "    x_1 = np.amax(nonZero[1])\n",
    "    y_1 = np.amax(nonZero[0])    \n",
    "        \n",
    "    return x_0, y_0, x_1, y_1"
   ]
  },
  {
   "cell_type": "code",
   "execution_count": 5,
   "metadata": {
    "collapsed": true
   },
   "outputs": [],
   "source": [
    "def TrackbarCallBack(callBack):\n",
    "    global h_min, h_max, s_min, s_max, v_min, v_max\n",
    "    global hImage, sImage, vImage\n",
    "    global imageCropped\n",
    "    global hsvThresImage\n",
    "    global x_0, y_0, x_1, y_1\n",
    "    \n",
    "    h_min = cv2.getTrackbarPos(\"H_min\", \"H\")\n",
    "    h_max = cv2.getTrackbarPos(\"H_max\", \"H\")\n",
    "    s_min = cv2.getTrackbarPos(\"S_min\", \"S\")\n",
    "    s_max = cv2.getTrackbarPos(\"S_max\", \"S\")\n",
    "    v_min = cv2.getTrackbarPos(\"V_min\", \"V\")\n",
    "    v_max = cv2.getTrackbarPos(\"V_max\", \"V\")\n",
    "    \n",
    "    hClone = hImage.copy()\n",
    "    sClone = sImage.copy()\n",
    "    vClone = vImage.copy()\n",
    "    hClone = cv2.inRange(hClone, h_min, h_max)\n",
    "    sClone = cv2.inRange(sClone, s_min, s_max)\n",
    "    vClone = cv2.inRange(vClone, v_min, v_max)\n",
    "    \n",
    "    cv2.imshow(\"H\", hClone)\n",
    "    cv2.imshow(\"S\", sClone)\n",
    "    cv2.imshow(\"V\", vClone)\n",
    "    \n",
    "    mask = cv2.bitwise_and(hClone, sClone)\n",
    "    mask = cv2.bitwise_and(mask, vClone)           \n",
    "    # Morphology\n",
    "    kernel = np.ones((3,3), np.uint8)   \n",
    "    mask = cv2.morphologyEx(mask, cv2.MORPH_OPEN, kernel)    \n",
    "    hsvThresImage = cv2.bitwise_and(imageCropped, imageCropped, mask = mask) \n",
    "    \n",
    "    # Bounding box\n",
    "    x_0, y_0, x_1, y_1 = FindBoundingRect(mask)\n",
    "    cv2.rectangle(hsvThresImage, (x_0,y_0), (x_1,y_1), (0,255,0), 2)\n",
    "    \n",
    "    cv2.imshow(\"croppedImage\", hsvThresImage)"
   ]
  },
  {
   "cell_type": "code",
   "execution_count": 6,
   "metadata": {
    "collapsed": false
   },
   "outputs": [],
   "source": [
    "def DealWithCropped(imageCropped):\n",
    "    global hImage, sImage, vImage\n",
    "    global hsvThresImage\n",
    "    \n",
    "    cv2.namedWindow(\"croppedImage\")\n",
    "    cv2.imshow(\"croppedImage\", imageCropped)\n",
    "    \n",
    "    hsvImageCropped = cv2.cvtColor(imageCropped, cv2.COLOR_BGR2HSV)\n",
    "    hImage, sImage, vImage = cv2.split(hsvImageCropped)\n",
    "    \n",
    "    cv2.namedWindow(\"H\")\n",
    "    cv2.createTrackbar(\"H_min\", \"H\", 0, 180, TrackbarCallBack)\n",
    "    cv2.createTrackbar(\"H_max\", \"H\", 180, 180, TrackbarCallBack)\n",
    "    cv2.imshow(\"H\", hImage)\n",
    "    cv2.namedWindow(\"S\")\n",
    "    cv2.createTrackbar(\"S_min\", \"S\", 0, 255, TrackbarCallBack)\n",
    "    cv2.createTrackbar(\"S_max\", \"S\", 255, 255, TrackbarCallBack)\n",
    "    cv2.imshow(\"S\", sImage)\n",
    "    cv2.namedWindow(\"V\")\n",
    "    cv2.createTrackbar(\"V_min\", \"V\", 0, 255, TrackbarCallBack)\n",
    "    cv2.createTrackbar(\"V_max\", \"V\", 255, 255, TrackbarCallBack)\n",
    "    cv2.imshow(\"V\", vImage)    \n",
    "    \n",
    "    while True:\n",
    "        key = cv2.waitKey(0)\n",
    "\n",
    "        if key == 32: # Spacebar\n",
    "            CropImage(imageCropped)\n",
    "            break\n",
    "    \n",
    "    cv2.destroyWindow(\"H\")\n",
    "    cv2.destroyWindow(\"S\")\n",
    "    cv2.destroyWindow(\"V\")"
   ]
  },
  {
   "cell_type": "code",
   "execution_count": 8,
   "metadata": {
    "collapsed": false
   },
   "outputs": [
    {
     "name": "stdout",
     "output_type": "stream",
     "text": [
      "(224, 224, 3)\n",
      "(224, 224, 3)\n"
     ]
    }
   ],
   "source": [
    "SCALE = 0.3\n",
    "\n",
    "image = cv2.imread(\"Pictures/IMG_2933.png\")\n",
    "image = cv2.resize(image, (0,0), fx=SCALE, fy=SCALE, interpolation=cv2.INTER_AREA) \n",
    "imageClone = image.copy()\n",
    "\n",
    "isCropping = False\n",
    "cv2.namedWindow(\"sourceImage\")\n",
    "cv2.imshow(\"sourceImage\", image)\n",
    "cv2.setMouseCallback(\"sourceImage\", ClickAndCrop)\n",
    "\n",
    "while True:\n",
    "    key = cv2.waitKey(0)\n",
    "    \n",
    "    if key == 32: # Spacebar\n",
    "        imageCropped = image[startPt[1]:endPt[1], startPt[0]:endPt[0]]\n",
    "        DealWithCropped(imageCropped)\n",
    "    elif key == 27: # ESC\n",
    "        break\n",
    "\n",
    "cv2.destroyAllWindows()\n",
    "cv2.waitKey(1)\n",
    "cv2.destroyAllWindows()"
   ]
  },
  {
   "cell_type": "code",
   "execution_count": null,
   "metadata": {
    "collapsed": false
   },
   "outputs": [],
   "source": [
    "\n",
    "\n"
   ]
  },
  {
   "cell_type": "code",
   "execution_count": null,
   "metadata": {
    "collapsed": true
   },
   "outputs": [],
   "source": []
  },
  {
   "cell_type": "code",
   "execution_count": null,
   "metadata": {
    "collapsed": true
   },
   "outputs": [],
   "source": [
    "# Playground"
   ]
  },
  {
   "cell_type": "code",
   "execution_count": 2,
   "metadata": {
    "collapsed": false
   },
   "outputs": [
    {
     "name": "stdout",
     "output_type": "stream",
     "text": [
      "['EVENT_FLAG_ALTKEY', 'EVENT_FLAG_CTRLKEY', 'EVENT_FLAG_LBUTTON', 'EVENT_FLAG_MBUTTON', 'EVENT_FLAG_RBUTTON', 'EVENT_FLAG_SHIFTKEY', 'EVENT_LBUTTONDBLCLK', 'EVENT_LBUTTONDOWN', 'EVENT_LBUTTONUP', 'EVENT_MBUTTONDBLCLK', 'EVENT_MBUTTONDOWN', 'EVENT_MBUTTONUP', 'EVENT_MOUSEHWHEEL', 'EVENT_MOUSEMOVE', 'EVENT_MOUSEWHEEL', 'EVENT_RBUTTONDBLCLK', 'EVENT_RBUTTONDOWN', 'EVENT_RBUTTONUP']\n"
     ]
    }
   ],
   "source": [
    "events = [i for i in dir(cv2) if 'EVENT' in i]\n",
    "print events"
   ]
  },
  {
   "cell_type": "code",
   "execution_count": null,
   "metadata": {
    "collapsed": true
   },
   "outputs": [],
   "source": [
    "res = cv2.waitKey(0)\n",
    "print 'You pressed %d (0x%x), LSB: %d (%s)' % (res, res, res % 256,\n",
    "    repr(chr(res%256)) if res%256 < 128 else '?')\n",
    "if res == ord(' '):\n",
    "    print(\"SpaceBar\")\n",
    "if res == 27:\n",
    "    print(\"Esc\")"
   ]
  },
  {
   "cell_type": "code",
   "execution_count": 21,
   "metadata": {
    "collapsed": false
   },
   "outputs": [],
   "source": [
    "array = \\\n",
    "    np.array([[ 1.,  0.,  0.],\n",
    "       [ 0.,  1.,  0.]])"
   ]
  },
  {
   "cell_type": "code",
   "execution_count": 21,
   "metadata": {
    "collapsed": false
   },
   "outputs": [
    {
     "data": {
      "text/plain": [
       "(2, 3)"
      ]
     },
     "execution_count": 21,
     "metadata": {},
     "output_type": "execute_result"
    }
   ],
   "source": [
    "array.shape"
   ]
  },
  {
   "cell_type": "code",
   "execution_count": null,
   "metadata": {
    "collapsed": true
   },
   "outputs": [],
   "source": []
  }
 ],
 "metadata": {
  "kernelspec": {
   "display_name": "Python 2",
   "language": "python",
   "name": "python2"
  },
  "language_info": {
   "codemirror_mode": {
    "name": "ipython",
    "version": 2
   },
   "file_extension": ".py",
   "mimetype": "text/x-python",
   "name": "python",
   "nbconvert_exporter": "python",
   "pygments_lexer": "ipython2",
   "version": "2.7.10"
  }
 },
 "nbformat": 4,
 "nbformat_minor": 1
}
